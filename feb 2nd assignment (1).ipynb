{
 "cells": [
  {
   "cell_type": "code",
   "execution_count": 1,
   "id": "b147a94a-63a0-4b34-a814-1ce4fb83e7a3",
   "metadata": {},
   "outputs": [],
   "source": [
    "# Question 1 \n"
   ]
  },
  {
   "cell_type": "code",
   "execution_count": 2,
   "id": "6cdab9d8-2dd2-45b8-af43-5111c7f8786d",
   "metadata": {},
   "outputs": [
    {
     "data": {
      "text/plain": [
       "' We use while loop when we didnt know how many times we have to run the loop\\nbut when we know that we have to run the loop only certain number of times then we use for \\nloop '"
      ]
     },
     "execution_count": 2,
     "metadata": {},
     "output_type": "execute_result"
    }
   ],
   "source": [
    "\"\"\" We use while loop when we didnt know how many times we have to run the loop\n",
    "but when we know that we have to run the loop only certain number of times then we use for \n",
    "loop \"\"\""
   ]
  },
  {
   "cell_type": "code",
   "execution_count": 3,
   "id": "0b6c0ced-1d7a-4b1f-aafb-28408ccc1062",
   "metadata": {},
   "outputs": [
    {
     "name": "stdout",
     "output_type": "stream",
     "text": [
      "1\n",
      "2\n",
      "3\n",
      "4\n",
      "5\n",
      "6\n",
      "7\n",
      "8\n",
      "9\n",
      "10\n"
     ]
    }
   ],
   "source": [
    "# example of for loop if we want to print numbers from 1 to 10, here we know there are 10 iterations to do\n",
    "# so i will approach like this\n",
    "for i in range(10):\n",
    "    print(i+1)"
   ]
  },
  {
   "cell_type": "code",
   "execution_count": 4,
   "id": "9a33d79a-90b3-46c5-a26a-45dc054f715c",
   "metadata": {},
   "outputs": [],
   "source": [
    "# now we will see example of while loop \n",
    "# we will solve same question using while loop but this time assume that we didnt know the\n",
    "# exact number of iterations that we have done"
   ]
  },
  {
   "cell_type": "code",
   "execution_count": 5,
   "id": "5208b5bc-5626-4d10-80ef-021cec6993a6",
   "metadata": {},
   "outputs": [
    {
     "name": "stdout",
     "output_type": "stream",
     "text": [
      "1\n",
      "2\n",
      "3\n",
      "4\n",
      "5\n",
      "6\n",
      "7\n",
      "8\n",
      "9\n",
      "10\n"
     ]
    }
   ],
   "source": [
    "a = 1\n",
    "while (a <= 10):\n",
    "    print(a)\n",
    "    a += 1"
   ]
  },
  {
   "cell_type": "code",
   "execution_count": 6,
   "id": "3074b080-8800-4e97-aad8-ee1ffa79ccba",
   "metadata": {},
   "outputs": [],
   "source": [
    "# see we did same problem using while loop without knowing exact iterations"
   ]
  },
  {
   "cell_type": "code",
   "execution_count": null,
   "id": "05315932-453c-45f8-b7e6-9ce62b6fd935",
   "metadata": {},
   "outputs": [],
   "source": [
    "\n"
   ]
  },
  {
   "cell_type": "code",
   "execution_count": 7,
   "id": "a32fe3c1-d871-4c90-ab08-718feabb46f0",
   "metadata": {},
   "outputs": [],
   "source": [
    "# Question 2"
   ]
  },
  {
   "cell_type": "code",
   "execution_count": 8,
   "id": "8cec0a60-f72e-4d4d-b215-055762bcc4fc",
   "metadata": {},
   "outputs": [
    {
     "name": "stdout",
     "output_type": "stream",
     "text": [
      "55\n"
     ]
    }
   ],
   "source": [
    "# Python Program to print the sum of first 10 natural numbers using for loop\n",
    "sum_for_loop = 0\n",
    "for i in range(1,11):\n",
    "    sum_for_loop += i\n",
    "print(sum_for_loop)  "
   ]
  },
  {
   "cell_type": "code",
   "execution_count": 9,
   "id": "42f0ce1a-e4bf-43f4-9362-62c9dfa1c5b1",
   "metadata": {},
   "outputs": [
    {
     "name": "stdout",
     "output_type": "stream",
     "text": [
      "3628800\n"
     ]
    }
   ],
   "source": [
    "# Python Program to print the product of first 10 natural numbers using for loop\n",
    "prod_for_loop = 1\n",
    "for j in range(1,11):\n",
    "    prod_for_loop *= j\n",
    "print(prod_for_loop)    "
   ]
  },
  {
   "cell_type": "code",
   "execution_count": 10,
   "id": "02a9feff-92d1-4c9c-805d-1b7a13e403da",
   "metadata": {},
   "outputs": [
    {
     "name": "stdout",
     "output_type": "stream",
     "text": [
      "55\n"
     ]
    }
   ],
   "source": [
    "# Python Program to print the sum of first 10 natural numbers using while loop\n",
    "sum_while_loop = 0\n",
    "a = 1\n",
    "while (a <= 10):\n",
    "    sum_while_loop += a\n",
    "    a += 1\n",
    "print(sum_while_loop)    "
   ]
  },
  {
   "cell_type": "code",
   "execution_count": 11,
   "id": "55a385b9-7caf-4931-ba4c-c16e7670e7d0",
   "metadata": {},
   "outputs": [
    {
     "name": "stdout",
     "output_type": "stream",
     "text": [
      "3628800\n"
     ]
    }
   ],
   "source": [
    "# Python Program to print the product of first 10 natural numbers using while loop\n",
    "prod_while_loop = 1\n",
    "b = 1\n",
    "while (b <= 10):\n",
    "    prod_while_loop *= b\n",
    "    b += 1\n",
    "print(prod_while_loop)    "
   ]
  },
  {
   "cell_type": "code",
   "execution_count": null,
   "id": "a83aa9c3-6407-4796-ba1c-4a82bca3a01b",
   "metadata": {},
   "outputs": [],
   "source": [
    "\n",
    "\n"
   ]
  },
  {
   "cell_type": "code",
   "execution_count": 12,
   "id": "0f636563-a039-4f58-908c-def1e7e2db56",
   "metadata": {},
   "outputs": [],
   "source": [
    "# Question 3"
   ]
  },
  {
   "cell_type": "code",
   "execution_count": 17,
   "id": "18f0b31a-775e-4ae8-8a81-5796e131f794",
   "metadata": {},
   "outputs": [
    {
     "name": "stdin",
     "output_type": "stream",
     "text": [
      "Enter units consumed:  310\n"
     ]
    },
    {
     "name": "stdout",
     "output_type": "stream",
     "text": [
      "2250.0\n"
     ]
    }
   ],
   "source": [
    "units = int(input(\"Enter units consumed: \"))\n",
    "\n",
    "if units <= 100:\n",
    "    print(4.5*units)\n",
    "    \n",
    "if units > 100 and units <= 200:\n",
    "    first = 4.5*100\n",
    "    second = (units-100)*6\n",
    "    print(first + second)\n",
    "    \n",
    "if units > 200 and units <= 300:\n",
    "    first = 4.5*100 + 6*100\n",
    "    second = (units-200)*10\n",
    "    print(first + second)\n",
    "    \n",
    "if units > 300:\n",
    "    first = 4.5*100 + 6*100 + 10*100\n",
    "    second = (units - 300)*20\n",
    "    print(first + second)\n",
    "    \n",
    "    "
   ]
  },
  {
   "cell_type": "code",
   "execution_count": null,
   "id": "9f5b90ac-7de6-4405-9c3b-44c37fb0d6fa",
   "metadata": {},
   "outputs": [],
   "source": [
    "\n",
    "\n"
   ]
  },
  {
   "cell_type": "code",
   "execution_count": 18,
   "id": "d12491c9-ba14-45dc-af70-5fd2d660edc6",
   "metadata": {},
   "outputs": [],
   "source": [
    "# Question 4"
   ]
  },
  {
   "cell_type": "code",
   "execution_count": 19,
   "id": "55627f1e-2cc2-44a1-a74c-935396c6116f",
   "metadata": {},
   "outputs": [
    {
     "name": "stdout",
     "output_type": "stream",
     "text": [
      "[2, 4, 5, 6, 8, 10, 12, 14, 15, 16, 18, 20, 22, 24, 25, 26, 28, 30, 32, 34, 35, 36, 38, 40, 42, 44, 45, 46, 48, 50, 52, 54, 55, 56, 58, 60, 62, 64, 65, 66, 68, 70, 72, 74, 75, 76, 78, 80, 82, 84, 85, 86, 88, 90, 92, 94, 95, 96, 98, 100]\n"
     ]
    }
   ],
   "source": [
    "# using for loop\n",
    "ayush1 = [] #list of 100\n",
    "ayush2 = [] # required answer list\n",
    "for i in range(100):\n",
    "    ayush1.append(i+1) # this will create a list of 100 natural numbers\n",
    "for j in ayush1:\n",
    "    if j**3 % 4 == 0 or j**3 % 5 == 0:\n",
    "        ayush2.append(j)\n",
    "print(ayush2)    "
   ]
  },
  {
   "cell_type": "code",
   "execution_count": 20,
   "id": "4363c612-934b-4fdc-b5c1-f560e80bc0dc",
   "metadata": {},
   "outputs": [
    {
     "name": "stdout",
     "output_type": "stream",
     "text": [
      "[2, 4, 5, 6, 8, 10, 12, 14, 15, 16, 18, 20, 22, 24, 25, 26, 28, 30, 32, 34, 35, 36, 38, 40, 42, 44, 45, 46, 48, 50, 52, 54, 55, 56, 58, 60, 62, 64, 65, 66, 68, 70, 72, 74, 75, 76, 78, 80, 82, 84, 85, 86, 88, 90, 92, 94, 95, 96, 98, 100]\n"
     ]
    }
   ],
   "source": [
    "# using while loop\n",
    "ayush3 = []\n",
    "ayush4 = []\n",
    "i = 1\n",
    "while (i <= 100):\n",
    "    ayush3.append(i)\n",
    "    i += 1\n",
    "i = 0\n",
    "while (i < 100):\n",
    "    if ayush3[i]**3 % 4 == 0 or ayush3[i] % 5 == 0:\n",
    "        ayush4.append(ayush3[i])\n",
    "        i += 1\n",
    "    else:\n",
    "        i += 1\n",
    "print(ayush4)        \n",
    "    "
   ]
  },
  {
   "cell_type": "code",
   "execution_count": null,
   "id": "3e284cee-39d6-4add-a521-2ab5cfcf9286",
   "metadata": {},
   "outputs": [],
   "source": [
    "\n",
    "\n"
   ]
  },
  {
   "cell_type": "code",
   "execution_count": 21,
   "id": "1dbac9b8-130f-4383-af3a-a389f6a372b2",
   "metadata": {},
   "outputs": [],
   "source": [
    "# Question 5\n"
   ]
  },
  {
   "cell_type": "code",
   "execution_count": 22,
   "id": "39b53feb-5c40-4963-85db-7610118776c6",
   "metadata": {},
   "outputs": [
    {
     "name": "stdout",
     "output_type": "stream",
     "text": [
      "11\n"
     ]
    }
   ],
   "source": [
    "# I need to calculate the no of vowels in string\n",
    "string = \"I want to become a data scientist\"\n",
    "count = 0\n",
    "for i in string:\n",
    "    if i in [\"a\",\"e\",\"i\",\"o\",\"u\"]:\n",
    "        count += 1\n",
    "print(count)        "
   ]
  },
  {
   "cell_type": "code",
   "execution_count": null,
   "id": "5ea00000-d400-47d4-af53-34d2c3ccabbc",
   "metadata": {},
   "outputs": [],
   "source": []
  }
 ],
 "metadata": {
  "kernelspec": {
   "display_name": "Python 3 (ipykernel)",
   "language": "python",
   "name": "python3"
  },
  "language_info": {
   "codemirror_mode": {
    "name": "ipython",
    "version": 3
   },
   "file_extension": ".py",
   "mimetype": "text/x-python",
   "name": "python",
   "nbconvert_exporter": "python",
   "pygments_lexer": "ipython3",
   "version": "3.10.8"
  }
 },
 "nbformat": 4,
 "nbformat_minor": 5
}
